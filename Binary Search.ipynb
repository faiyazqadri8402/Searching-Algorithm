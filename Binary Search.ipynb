{
 "cells": [
  {
   "cell_type": "markdown",
   "metadata": {},
   "source": [
    "### Recursive method"
   ]
  },
  {
   "cell_type": "code",
   "execution_count": 1,
   "metadata": {},
   "outputs": [],
   "source": [
    "def binary_search(arr,low,high,item):\n",
    "    #base case\n",
    "    if low<=high:\n",
    "        mid = (low+high)//2\n",
    "        \n",
    "        if arr[mid]==item:\n",
    "            return mid\n",
    "        elif arr[mid]>item:\n",
    "            return binary_search(arr,low,mid-1,item)\n",
    "        else:\n",
    "            return binary_search(arr,mid+1,high,item)\n",
    "    else:\n",
    "        return -1\n",
    "                \n",
    "        "
   ]
  },
  {
   "cell_type": "code",
   "execution_count": 4,
   "metadata": {},
   "outputs": [
    {
     "name": "stdout",
     "output_type": "stream",
     "text": [
      "Item found at index 0\n"
     ]
    }
   ],
   "source": [
    "arr = [1,12,14,19,30,70,100]\n",
    "result = binary_search(arr,0,len(arr)-1,1)\n",
    "if result!=-1:\n",
    "    print(\"Item found at index\",str(result))\n",
    "else:\n",
    "    print(\"Item not found\")"
   ]
  },
  {
   "cell_type": "markdown",
   "metadata": {},
   "source": [
    "### Iterative method"
   ]
  },
  {
   "cell_type": "code",
   "execution_count": 14,
   "metadata": {},
   "outputs": [],
   "source": [
    "def binary_search2(arr,item):\n",
    "    low = 0\n",
    "    high = len(arr)-1\n",
    "    mid = 0\n",
    "    while(low<=high):\n",
    "        mid = (low+high)//2\n",
    "        \n",
    "        # If x is smaller, ignore right half\n",
    "        if arr[mid]>item:\n",
    "            high = mid-1\n",
    "            \n",
    "        #If x is greater, ignore left half     \n",
    "        elif arr[mid]<item:\n",
    "            low = mid+1\n",
    "            \n",
    "        # Check if x is present at mid     \n",
    "        else:\n",
    "            return mid\n",
    "    #If we reach here, then the element was not present\n",
    "    return -1\n",
    "\n",
    "        \n",
    "        \n",
    "        "
   ]
  },
  {
   "cell_type": "code",
   "execution_count": 15,
   "metadata": {},
   "outputs": [
    {
     "name": "stdout",
     "output_type": "stream",
     "text": [
      "Item found at index 5\n"
     ]
    }
   ],
   "source": [
    "arr = [1,12,14,19,30,70,100]\n",
    "result = binary_search2(arr,70)\n",
    "if result!=-1:\n",
    "    print(\"Item found at index\",str(result))\n",
    "else:\n",
    "    print(\"Item not found\")\n",
    "    "
   ]
  },
  {
   "cell_type": "code",
   "execution_count": null,
   "metadata": {},
   "outputs": [],
   "source": []
  }
 ],
 "metadata": {
  "kernelspec": {
   "display_name": "Python 3",
   "language": "python",
   "name": "python3"
  },
  "language_info": {
   "codemirror_mode": {
    "name": "ipython",
    "version": 3
   },
   "file_extension": ".py",
   "mimetype": "text/x-python",
   "name": "python",
   "nbconvert_exporter": "python",
   "pygments_lexer": "ipython3",
   "version": "3.6.8"
  }
 },
 "nbformat": 4,
 "nbformat_minor": 4
}
